{
 "cells": [
  {
   "cell_type": "markdown",
   "metadata": {},
   "source": [
    "# Q1:"
   ]
  },
  {
   "cell_type": "markdown",
   "metadata": {},
   "source": [
    "Think of at least three kinds of your favorite pizza. Store these pizza names in a list, and then use a for loop to print the name of each pizza."
   ]
  },
  {
   "cell_type": "code",
   "execution_count": 1,
   "metadata": {},
   "outputs": [
    {
     "name": "stdout",
     "output_type": "stream",
     "text": [
      "Chicken Fajita\n",
      "Malai\n",
      "Pepproni\n"
     ]
    }
   ],
   "source": [
    "p_name={\"Chicken Fajita\", \"Pepproni\",\"Malai\"}\n",
    "for b in p_name:\n",
    "    print(b)"
   ]
  },
  {
   "cell_type": "markdown",
   "metadata": {},
   "source": [
    "# Q2"
   ]
  },
  {
   "cell_type": "markdown",
   "metadata": {},
   "source": [
    "Start with your last question , Modify your for loop to print a sentence using the name of the pizza\n",
    "instead of printing just the name of the pizza. For each pizza you should\n",
    "have one line of output containing a simple statement like I like pepperoni\n",
    "pizza."
   ]
  },
  {
   "cell_type": "code",
   "execution_count": 2,
   "metadata": {},
   "outputs": [
    {
     "name": "stdout",
     "output_type": "stream",
     "text": [
      "I like Chicken Fajita\n",
      "I like Malai\n",
      "I like Pepproni\n"
     ]
    }
   ],
   "source": [
    "p_name={\"Chicken Fajita\", \"Pepproni\",\"Malai\"}\n",
    "for b in p_name:\n",
    "    print(f\"I like {b}\")"
   ]
  },
  {
   "cell_type": "markdown",
   "metadata": {},
   "source": [
    "# Q3:"
   ]
  },
  {
   "cell_type": "markdown",
   "metadata": {},
   "source": [
    "Use a for loop to print the numbers from 1 to 20,\n",
    "inclusive."
   ]
  },
  {
   "cell_type": "code",
   "execution_count": 3,
   "metadata": {},
   "outputs": [
    {
     "name": "stdout",
     "output_type": "stream",
     "text": [
      "1\n",
      "2\n",
      "3\n",
      "4\n",
      "5\n",
      "6\n",
      "7\n",
      "8\n",
      "9\n",
      "10\n",
      "11\n",
      "12\n",
      "13\n",
      "14\n",
      "15\n",
      "16\n",
      "17\n",
      "18\n",
      "19\n"
     ]
    }
   ],
   "source": [
    "for a in range (1,20):\n",
    "    print(a)"
   ]
  },
  {
   "cell_type": "markdown",
   "metadata": {},
   "source": [
    "# Q4:"
   ]
  },
  {
   "cell_type": "markdown",
   "metadata": {},
   "source": [
    "Use the third argument of the range() function to make a list\n",
    "of the odd numbers from 1 to 20. Use a for loop to print each number."
   ]
  },
  {
   "cell_type": "code",
   "execution_count": 4,
   "metadata": {},
   "outputs": [
    {
     "name": "stdout",
     "output_type": "stream",
     "text": [
      "1\n",
      "3\n",
      "5\n",
      "7\n",
      "9\n",
      "11\n",
      "13\n",
      "15\n",
      "17\n",
      "19\n"
     ]
    }
   ],
   "source": [
    "num=[1,2,3,4,5,6,7,8,9,10,11,12,13,14,15,16,17,18,19,20]\n",
    "for a in num:\n",
    "    if a%2!=0:\n",
    "        print(a)"
   ]
  },
  {
   "cell_type": "markdown",
   "metadata": {},
   "source": [
    "# Q5:"
   ]
  },
  {
   "cell_type": "markdown",
   "metadata": {},
   "source": [
    "Make a list of the multiples of 3 from 3 to 30. Use a for loop to\n",
    "print the numbers in your list."
   ]
  },
  {
   "cell_type": "code",
   "execution_count": 5,
   "metadata": {},
   "outputs": [
    {
     "name": "stdout",
     "output_type": "stream",
     "text": [
      "3\n",
      "6\n",
      "9\n",
      "12\n",
      "15\n",
      "18\n",
      "21\n",
      "24\n",
      "27\n",
      "30\n"
     ]
    }
   ],
   "source": [
    "multiple={3,6,9,12,15,18,21,24,27,30}\n",
    "for a in multiple:\n",
    "    print (a)"
   ]
  },
  {
   "cell_type": "markdown",
   "metadata": {},
   "source": [
    "# Q6:"
   ]
  },
  {
   "cell_type": "markdown",
   "metadata": {},
   "source": [
    "A number raised to the third power is called a cube. For example,\n",
    "the cube of 2 is written as 2**3 in Python. Make a list of the first 10 cubes (that\n",
    "is, the cube of each integer from 1 through 10), and use a for loop to print out\n",
    "the value of each cube"
   ]
  },
  {
   "cell_type": "code",
   "execution_count": 6,
   "metadata": {},
   "outputs": [
    {
     "name": "stdout",
     "output_type": "stream",
     "text": [
      "1\n",
      "8\n",
      "27\n",
      "64\n",
      "125\n",
      "216\n",
      "343\n",
      "512\n",
      "729\n",
      "1000\n"
     ]
    }
   ],
   "source": [
    "num={1,2,3,4,5,6,7,8,9,10}\n",
    "for i in num:\n",
    "    print(i**3)"
   ]
  },
  {
   "cell_type": "markdown",
   "metadata": {},
   "source": [
    "# Q7:"
   ]
  },
  {
   "cell_type": "markdown",
   "metadata": {},
   "source": [
    "###### Make a python program that conatains your nine favourite dishes in a list called foods.\n",
    "\n",
    "###### Print the message, The first three items in the list are:. \n",
    "###### Then use a slice to print the first three items from that program’s list.\n",
    "\n",
    "###### Print the message, Three items from the middle of the list are:\n",
    "###### Use a slice to print three items from the middle of the list.\n",
    "\n",
    "###### Print the message, The last three items in the list are:\n",
    "###### Use a slice to print the last three items in the list."
   ]
  },
  {
   "cell_type": "code",
   "execution_count": 7,
   "metadata": {},
   "outputs": [],
   "source": [
    "foods=['Stakes','Lambs Pops','Chinese','Bar B q','Alfaredo','Lasanga','Henios','Biryani','Pie','FastFood']\n"
   ]
  },
  {
   "cell_type": "code",
   "execution_count": 8,
   "metadata": {},
   "outputs": [
    {
     "name": "stdout",
     "output_type": "stream",
     "text": [
      " The first three items in list are  Stakes\n",
      " The first three items in list are  Lambs Pops\n",
      " The first three items in list are  Chinese\n"
     ]
    },
    {
     "data": {
      "text/plain": [
       "['Stakes', 'Lambs Pops', 'Chinese']"
      ]
     },
     "execution_count": 8,
     "metadata": {},
     "output_type": "execute_result"
    }
   ],
   "source": [
    "for a in foods [0:3]:\n",
    "    print( f' The first three items in list are  {a}' )\n",
    "slice= foods[0:3]\n",
    "slice"
   ]
  },
  {
   "cell_type": "code",
   "execution_count": 9,
   "metadata": {},
   "outputs": [
    {
     "name": "stdout",
     "output_type": "stream",
     "text": [
      " The items form the middle of list are  Alfaredo\n",
      " The items form the middle of list are  Lasanga\n",
      " The items form the middle of list are  Henios\n"
     ]
    },
    {
     "data": {
      "text/plain": [
       "['Alfaredo', 'Lasanga', 'Henios']"
      ]
     },
     "execution_count": 9,
     "metadata": {},
     "output_type": "execute_result"
    }
   ],
   "source": [
    "for a in foods [4:7]:\n",
    "    print( f' The items form the middle of list are  {a}' )\n",
    "slice=foods[4:7]\n",
    "slice\n"
   ]
  },
  {
   "cell_type": "code",
   "execution_count": 10,
   "metadata": {},
   "outputs": [
    {
     "name": "stdout",
     "output_type": "stream",
     "text": [
      " The items form the last of list are Biryani\n",
      " The items form the last of list are Pie\n",
      " The items form the last of list are FastFood\n"
     ]
    },
    {
     "data": {
      "text/plain": [
       "['Biryani', 'Pie', 'FastFood']"
      ]
     },
     "execution_count": 10,
     "metadata": {},
     "output_type": "execute_result"
    }
   ],
   "source": [
    "for a in foods [7:10]:\n",
    "    print( f' The items form the last of list are {a}' )\n",
    "slice=foods[7:10]\n",
    "slice"
   ]
  },
  {
   "cell_type": "markdown",
   "metadata": {},
   "source": [
    "# Q8:"
   ]
  },
  {
   "cell_type": "markdown",
   "metadata": {},
   "source": [
    "### Start with your program from your last Question8.\n",
    "###### Make a copy of the list of foods, and call it friend_foods.\n",
    "###### Then, do the following:\n",
    "######    Add a new dish to the original list.\n",
    "######    Add a different dish to the list friend_foodss.\n",
    "######    Prove that you have two separate lists. \n",
    "###### Print the message, My favorite pizzas are: and then use a for loop to print the first list. \n",
    "###### Print the message,\n",
    "###### My friend’s favorite foods are:, and then use a for loop to print the second list.\n",
    "    \n",
    "##### NOTE: Make sure each new dish is stored in the appropriate list."
   ]
  },
  {
   "cell_type": "code",
   "execution_count": 31,
   "metadata": {},
   "outputs": [
    {
     "data": {
      "text/plain": [
       "['Stakes',\n",
       " 'Lambs Pops',\n",
       " 'Chinese',\n",
       " 'Bar B q',\n",
       " 'Alfaredo',\n",
       " 'Lasanga',\n",
       " 'Henios',\n",
       " 'Biryani',\n",
       " 'Pie',\n",
       " 'FastFood',\n",
       " 'tikka']"
      ]
     },
     "execution_count": 31,
     "metadata": {},
     "output_type": "execute_result"
    }
   ],
   "source": [
    "friend_foods=['Stakes','Lambs Pops','Chinese','Bar B q','Alfaredo','Lasanga','Henios','Biryani','Pie','FastFood']\n",
    "friend_foods.insert(10,'tikka')\n",
    "friend_foods"
   ]
  },
  {
   "cell_type": "code",
   "execution_count": 32,
   "metadata": {},
   "outputs": [
    {
     "data": {
      "text/plain": [
       "['kabab',\n",
       " 'roll',\n",
       " 'rice',\n",
       " 'samosa',\n",
       " 'fries',\n",
       " 'sajji',\n",
       " 'broast',\n",
       " 'sandwich',\n",
       " 'custard',\n",
       " 'kheer']"
      ]
     },
     "execution_count": 32,
     "metadata": {},
     "output_type": "execute_result"
    }
   ],
   "source": [
    "friend_foodss=['kabab','roll','rice','samosa','fries','sajji','broast','sandwich','custard','kheer']\n",
    "friend_foodss"
   ]
  },
  {
   "cell_type": "code",
   "execution_count": 33,
   "metadata": {},
   "outputs": [
    {
     "name": "stdout",
     "output_type": "stream",
     "text": [
      "My friends favourite foods are kabab\n",
      "My friends favourite foods are roll\n",
      "My friends favourite foods are rice\n",
      "My friends favourite foods are samosa\n",
      "My friends favourite foods are fries\n",
      "My friends favourite foods are sajji\n",
      "My friends favourite foods are broast\n",
      "My friends favourite foods are sandwich\n",
      "My friends favourite foods are custard\n",
      "My friends favourite foods are kheer\n"
     ]
    }
   ],
   "source": [
    "for friend_list in friend_foodss:\n",
    "    print(f'My friends favourite foods are {friend_list}')"
   ]
  },
  {
   "cell_type": "markdown",
   "metadata": {},
   "source": [
    "# Q9:"
   ]
  },
  {
   "cell_type": "markdown",
   "metadata": {},
   "source": [
    "Take a user input from console line.Store it in a variable called Alien_color.\n",
    "\n",
    "If the alien’s color is red, print a statement that the player just earned 5 points for shooting the alien.\n",
    "\n",
    "If the alien’s color isn’t green, print a statement that the player just earned 10 points.\n",
    "\n",
    "If the alien's color isn't red or green , print a statment :, Alien is no more....."
   ]
  },
  {
   "cell_type": "code",
   "execution_count": 14,
   "metadata": {},
   "outputs": [
    {
     "name": "stdout",
     "output_type": "stream",
     "text": [
      "Enter Alien's Color: red\n",
      "player just earned 5 points for shooting the alien\n"
     ]
    }
   ],
   "source": [
    "alien_color=input(\"Enter Alien's Color: \").lower()\n",
    "if alien_color =='red':\n",
    "    print(\"player just earned 5 points for shooting the alien\")\n",
    "elif alien_color != \"green\":\n",
    "    print(\"player just earned 10 points for shooting the alien\")\n",
    "else: \n",
    "    print(\"Alien is no more\")\n"
   ]
  },
  {
   "cell_type": "markdown",
   "metadata": {},
   "source": [
    "# Q10:"
   ]
  },
  {
   "cell_type": "markdown",
   "metadata": {},
   "source": [
    "Write an if-elif-else chain that determines a person’s\n",
    "stage of life. Set a value for the variable age, and then:\n",
    "    \n",
    "•\t If the person is less than 2 years old, print a message that the person is a baby.\n",
    "\n",
    "•\t If the person is at least 2 years old but less than 4, print a message that the person is a toddler.\n",
    "\n",
    "•\t If the person is at least 4 years old but less than 13, print a message that the person is a kid.\n",
    "\n",
    "•\t If the person is at least 13 years old but less than 20, print a message that the person is a teenager.\n",
    "\n",
    "•\t If the person is at least 20 years old but less than 65, print a message that the person is an adult.\n",
    "\n",
    "•\t If the person is age 65 or older, print a message that the person is an elder."
   ]
  },
  {
   "cell_type": "code",
   "execution_count": 15,
   "metadata": {},
   "outputs": [
    {
     "name": "stdout",
     "output_type": "stream",
     "text": [
      "Enter name : Asim\n",
      "Enter ASIM's age : 67\n",
      "ASIM is elder\n"
     ]
    }
   ],
   "source": [
    "name=input(\"Enter name : \").upper()\n",
    "age=int(input(f\"Enter {name}'s age : \"))\n",
    "if age <=2 :\n",
    "    print(f\"{name} is baby \" )\n",
    "elif age >=2 and age< 4 :\n",
    "    print(f\"{name} is toddler\" )\n",
    "elif age >=4 and age < 13 :\n",
    "    print(f\"{name} is kid\" )\n",
    "elif age >=13 and age < 20 :\n",
    "    print(f\"{name} is teenager\" )\n",
    "elif age >=20 and age < 65 :\n",
    "    print(f\"{name} is adult\" )\n",
    "elif age > 65:\n",
    "    print(f\"{name} is elder\" )\n",
    "    "
   ]
  },
  {
   "cell_type": "markdown",
   "metadata": {},
   "source": [
    "# Q11:"
   ]
  },
  {
   "cell_type": "markdown",
   "metadata": {},
   "source": [
    "Do the following to create a program that simulates how websites ensure that everyone has a unique username.\n",
    "\n",
    "•\t Make a list of five or more usernames called current_users.\n",
    "\n",
    "•\t Make another list of five usernames called new_users. \n",
    "Make sure one or two of the new usernames are also in the current_users list.\n",
    "\n",
    "•\t Loop through the new_users list to see if each new username has already been used. \n",
    "If it has, print a message that the person will need to enter a new username. \n",
    "If a username has not been used, print a message saying that the username is available.\n",
    "\n",
    "•\t Make sure your comparison is case insensitive. If 'John' has been used, 'JOHN' should not be accepted."
   ]
  },
  {
   "cell_type": "code",
   "execution_count": 17,
   "metadata": {},
   "outputs": [
    {
     "name": "stdout",
     "output_type": "stream",
     "text": [
      "sarim321 is already exits.The person will need to enter a new username\n",
      "azhar886 is already exits.The person will need to enter a new username\n",
      "enter new username: salik\n",
      "This username is available\n"
     ]
    }
   ],
   "source": [
    "current_users=['asim123','sarim321','imran564','salman973','azhar886']\n",
    "new_users=['ahmed911','osama444','sarim321','azhar886','umer22']\n",
    "\n",
    "for newuser in new_users:\n",
    "    if newuser in current_users:\n",
    "          print(f'{newuser} is already exits.The person will need to enter a new username')\n",
    "newinput=input('enter new username: ').lower() \n",
    "\n",
    "if newinput in new_users:\n",
    "    print(f'{newinput} Already in current user list')\n",
    "else:\n",
    "    print('This username is available')\n",
    "   "
   ]
  },
  {
   "cell_type": "markdown",
   "metadata": {},
   "source": [
    "# Q12:"
   ]
  },
  {
   "cell_type": "markdown",
   "metadata": {},
   "source": [
    "Use a dictionary to store information about a person you know.\n",
    "Store their first name, last name, age, and the city in which they live. \n",
    "You should have keys such as first_name, last_name, age, and city. \n",
    "Print each piece of information stored in your dictionary"
   ]
  },
  {
   "cell_type": "code",
   "execution_count": 2,
   "metadata": {},
   "outputs": [
    {
     "name": "stdout",
     "output_type": "stream",
     "text": [
      "Asim Ahmed Abbasi 22 Karachi\n"
     ]
    }
   ],
   "source": [
    "info_dic={\"fname\":'Asim',\"lname\":'Ahmed Abbasi',\"age\":22,\"city\":'Karachi'}\n",
    "print(info_dic['fname'],info_dic['lname'],info_dic['age'],info_dic['city'])"
   ]
  },
  {
   "cell_type": "markdown",
   "metadata": {},
   "source": [
    "# Q13:"
   ]
  },
  {
   "cell_type": "markdown",
   "metadata": {},
   "source": [
    "Starts with your last question 12 , loop through the dictionary’s keys and values.\n",
    "When you’re sure that your loop works, add five more Python terms to your\n",
    "dictionary . When you run your program again, these new words and meanings\n",
    "should automatically be included in the output."
   ]
  },
  {
   "cell_type": "code",
   "execution_count": 3,
   "metadata": {},
   "outputs": [
    {
     "data": {
      "text/plain": [
       "{'fname': 'Asim', 'lname': 'Ahmed Abbasi', 'age': 22, 'city': 'Karachi'}"
      ]
     },
     "execution_count": 3,
     "metadata": {},
     "output_type": "execute_result"
    }
   ],
   "source": [
    "info_dic"
   ]
  },
  {
   "cell_type": "code",
   "execution_count": 7,
   "metadata": {},
   "outputs": [
    {
     "name": "stdout",
     "output_type": "stream",
     "text": [
      "fname Asim\n",
      "lname Ahmed Abbasi\n",
      "age 22\n",
      "city Karachi\n"
     ]
    }
   ],
   "source": [
    "for key,value in info_dic.items():\n",
    "    print(key,value)"
   ]
  },
  {
   "cell_type": "markdown",
   "metadata": {},
   "source": [
    "# Q14:"
   ]
  },
  {
   "cell_type": "markdown",
   "metadata": {},
   "source": [
    "Make a dictionary containing three major rivers and the country\n",
    "each river runs through. One key-value pair might be 'nile': 'egypt'.\n",
    "    \n",
    "    \n",
    "•\t Use a loop to print a sentence about each river, such as The Nile runs\n",
    "through Egypt.\n",
    "\n",
    "NOTE: use upper case through keys and values."
   ]
  },
  {
   "cell_type": "code",
   "execution_count": 9,
   "metadata": {},
   "outputs": [],
   "source": [
    "r_dic={\"Pakistan\":\"River Indus\", \"France\":\"Loire\",\"Japan\":\"Shinano\"}"
   ]
  },
  {
   "cell_type": "code",
   "execution_count": 14,
   "metadata": {},
   "outputs": [
    {
     "name": "stdout",
     "output_type": "stream",
     "text": [
      "The RIVER INDUS runs through PAKISTAN\n",
      "The LOIRE runs through FRANCE\n",
      "The SHINANO runs through JAPAN\n"
     ]
    }
   ],
   "source": [
    "for key,value in r_dic.items():\n",
    "    print(f\"The {value.upper()} runs through {key.upper()}\")"
   ]
  },
  {
   "cell_type": "markdown",
   "metadata": {},
   "source": [
    "# Q15:"
   ]
  },
  {
   "cell_type": "markdown",
   "metadata": {},
   "source": [
    "Make several dictionaries, where the name of each dictionary is the\n",
    "name of a pet. In each dictionary, include the kind of animal and the owner’s\n",
    "name. Store these dictionaries in a list called pets. Next, loop through your list\n",
    "and as you do print everything you know about each pet."
   ]
  },
  {
   "cell_type": "code",
   "execution_count": 21,
   "metadata": {},
   "outputs": [],
   "source": [
    "pets=[{\"Cat Kind\":\"Persian\",\"Owners Name\":\"Rate\"},{\"Dog Kind\":\"Bull Dog\",\"Owners Name\":\"Kaif\"},{\"Parrot Kind\":\"Nestor\",\"Owners Name\":\"Lit\"},{\"Rabbit Kind\":\"Mini Lop\",\"Owners Name\":\"Olp\"}]"
   ]
  },
  {
   "cell_type": "code",
   "execution_count": 22,
   "metadata": {},
   "outputs": [
    {
     "name": "stdout",
     "output_type": "stream",
     "text": [
      "{'Cat Kind': 'Persian', 'Owners Name': 'Rate'}\n",
      "{'Dog Kind': 'Bull Dog', 'Owners Name': 'Kaif'}\n",
      "{'Parrot Kind': 'Nestor', 'Owners Name': 'Lit'}\n",
      "{'Rabbit Kind': 'Mini Lop', 'Owners Name': 'Olp'}\n"
     ]
    }
   ],
   "source": [
    "for a in pets:\n",
    "    print(a)"
   ]
  }
 ],
 "metadata": {
  "kernelspec": {
   "display_name": "Python 3",
   "language": "python",
   "name": "python3"
  },
  "language_info": {
   "codemirror_mode": {
    "name": "ipython",
    "version": 3
   },
   "file_extension": ".py",
   "mimetype": "text/x-python",
   "name": "python",
   "nbconvert_exporter": "python",
   "pygments_lexer": "ipython3",
   "version": "3.7.3"
  }
 },
 "nbformat": 4,
 "nbformat_minor": 2
}
